{
 "cells": [
  {
   "cell_type": "code",
   "execution_count": 2,
   "id": "be5d7b78",
   "metadata": {},
   "outputs": [
    {
     "name": "stdout",
     "output_type": "stream",
     "text": [
      "2.9.1\n"
     ]
    }
   ],
   "source": [
    "# import libraries\n",
    "# try:\n",
    "#   # %tensorflow_version only exists in Colab.\n",
    "#   !pip install tf-nightly\n",
    "# except Exception:\n",
    "#   pass\n",
    "\n",
    "import numpy as np\n",
    "import pandas as pd\n",
    "\n",
    "import tensorflow as tf\n",
    "from tensorflow import keras\n",
    "\n",
    "import matplotlib.pyplot as plt\n",
    "from sklearn.model_selection import train_test_split\n",
    "from imblearn.over_sampling import RandomOverSampler\n",
    "from gensim.utils import tokenize\n",
    "\n",
    "print(tf.__version__)\n",
    "\n",
    "from IPython.display import display\n",
    "import black\n",
    "import jupyter_black\n",
    "\n",
    "jupyter_black.load(lab=False, target_version=black.TargetVersion.PY310)"
   ]
  },
  {
   "cell_type": "code",
   "execution_count": 3,
   "id": "2288fc4e",
   "metadata": {},
   "outputs": [],
   "source": [
    "# get data files\n",
    "!wget https://cdn.freecodecamp.org/project-data/sms/train-data.tsv\n",
    "!wget https://cdn.freecodecamp.org/project-data/sms/valid-data.tsv\n",
    "\n",
    "train_file_path = \"train-data.tsv\"\n",
    "test_file_path = \"valid-data.tsv\""
   ]
  },
  {
   "cell_type": "code",
   "execution_count": 4,
   "id": "e16a6acf",
   "metadata": {},
   "outputs": [
    {
     "name": "stdout",
     "output_type": "stream",
     "text": [
      "Train:\n"
     ]
    },
    {
     "data": {
      "text/html": [
       "<div>\n",
       "<style scoped>\n",
       "    .dataframe tbody tr th:only-of-type {\n",
       "        vertical-align: middle;\n",
       "    }\n",
       "\n",
       "    .dataframe tbody tr th {\n",
       "        vertical-align: top;\n",
       "    }\n",
       "\n",
       "    .dataframe thead th {\n",
       "        text-align: right;\n",
       "    }\n",
       "</style>\n",
       "<table border=\"1\" class=\"dataframe\">\n",
       "  <thead>\n",
       "    <tr style=\"text-align: right;\">\n",
       "      <th></th>\n",
       "      <th>label</th>\n",
       "      <th>text</th>\n",
       "    </tr>\n",
       "  </thead>\n",
       "  <tbody>\n",
       "    <tr>\n",
       "      <th>0</th>\n",
       "      <td>h</td>\n",
       "      <td>ahhhh...just woken up!had a bad dream about u ...</td>\n",
       "    </tr>\n",
       "    <tr>\n",
       "      <th>1</th>\n",
       "      <td>h</td>\n",
       "      <td>you can never do nothing</td>\n",
       "    </tr>\n",
       "    <tr>\n",
       "      <th>2</th>\n",
       "      <td>h</td>\n",
       "      <td>now u sound like manky scouse boy steve,like! ...</td>\n",
       "    </tr>\n",
       "    <tr>\n",
       "      <th>3</th>\n",
       "      <td>h</td>\n",
       "      <td>mum say we wan to go then go... then she can s...</td>\n",
       "    </tr>\n",
       "    <tr>\n",
       "      <th>4</th>\n",
       "      <td>h</td>\n",
       "      <td>never y lei... i v lazy... got wat? dat day ü ...</td>\n",
       "    </tr>\n",
       "  </tbody>\n",
       "</table>\n",
       "</div>"
      ],
      "text/plain": [
       "  label                                               text\n",
       "0     h  ahhhh...just woken up!had a bad dream about u ...\n",
       "1     h                           you can never do nothing\n",
       "2     h  now u sound like manky scouse boy steve,like! ...\n",
       "3     h  mum say we wan to go then go... then she can s...\n",
       "4     h  never y lei... i v lazy... got wat? dat day ü ..."
      ]
     },
     "metadata": {},
     "output_type": "display_data"
    },
    {
     "name": "stdout",
     "output_type": "stream",
     "text": [
      "(4179, 2)\n"
     ]
    },
    {
     "data": {
      "text/plain": [
       "label    0\n",
       "text     0\n",
       "dtype: int64"
      ]
     },
     "metadata": {},
     "output_type": "display_data"
    },
    {
     "name": "stdout",
     "output_type": "stream",
     "text": [
      "Test:\n"
     ]
    },
    {
     "data": {
      "text/html": [
       "<div>\n",
       "<style scoped>\n",
       "    .dataframe tbody tr th:only-of-type {\n",
       "        vertical-align: middle;\n",
       "    }\n",
       "\n",
       "    .dataframe tbody tr th {\n",
       "        vertical-align: top;\n",
       "    }\n",
       "\n",
       "    .dataframe thead th {\n",
       "        text-align: right;\n",
       "    }\n",
       "</style>\n",
       "<table border=\"1\" class=\"dataframe\">\n",
       "  <thead>\n",
       "    <tr style=\"text-align: right;\">\n",
       "      <th></th>\n",
       "      <th>label</th>\n",
       "      <th>text</th>\n",
       "    </tr>\n",
       "  </thead>\n",
       "  <tbody>\n",
       "    <tr>\n",
       "      <th>0</th>\n",
       "      <td>h</td>\n",
       "      <td>i am in hospital da. . i will return home in e...</td>\n",
       "    </tr>\n",
       "    <tr>\n",
       "      <th>1</th>\n",
       "      <td>h</td>\n",
       "      <td>not much, just some textin'. how bout you?</td>\n",
       "    </tr>\n",
       "    <tr>\n",
       "      <th>2</th>\n",
       "      <td>h</td>\n",
       "      <td>i probably won't eat at all today. i think i'm...</td>\n",
       "    </tr>\n",
       "    <tr>\n",
       "      <th>3</th>\n",
       "      <td>h</td>\n",
       "      <td>don‘t give a flying monkeys wot they think and...</td>\n",
       "    </tr>\n",
       "    <tr>\n",
       "      <th>4</th>\n",
       "      <td>h</td>\n",
       "      <td>who are you seeing?</td>\n",
       "    </tr>\n",
       "  </tbody>\n",
       "</table>\n",
       "</div>"
      ],
      "text/plain": [
       "  label                                               text\n",
       "0     h  i am in hospital da. . i will return home in e...\n",
       "1     h         not much, just some textin'. how bout you?\n",
       "2     h  i probably won't eat at all today. i think i'm...\n",
       "3     h  don‘t give a flying monkeys wot they think and...\n",
       "4     h                                who are you seeing?"
      ]
     },
     "metadata": {},
     "output_type": "display_data"
    },
    {
     "name": "stdout",
     "output_type": "stream",
     "text": [
      "(1392, 2)\n"
     ]
    },
    {
     "data": {
      "text/plain": [
       "label    0\n",
       "text     0\n",
       "dtype: int64"
      ]
     },
     "metadata": {},
     "output_type": "display_data"
    }
   ],
   "source": [
    "# Read the data into pandas data frames\n",
    "# Note the special separator, it's a small work-around\n",
    "train = pd.read_csv(train_file_path, sep='am\\t', engine='python', names=('label', 'text'))\n",
    "test = pd.read_csv(test_file_path, sep='am\\t', engine='python', names=('label', 'text'))\n",
    "\n",
    "print('Train:')\n",
    "display(train.head())\n",
    "print(train.shape)\n",
    "display(train.isnull().sum())\n",
    "\n",
    "print('Test:')\n",
    "display(test.head())\n",
    "print(test.shape)\n",
    "display(test.isnull().sum())"
   ]
  },
  {
   "cell_type": "code",
   "execution_count": 5,
   "id": "f7bea768",
   "metadata": {},
   "outputs": [
    {
     "data": {
      "text/html": [
       "<div>\n",
       "<style scoped>\n",
       "    .dataframe tbody tr th:only-of-type {\n",
       "        vertical-align: middle;\n",
       "    }\n",
       "\n",
       "    .dataframe tbody tr th {\n",
       "        vertical-align: top;\n",
       "    }\n",
       "\n",
       "    .dataframe thead th {\n",
       "        text-align: right;\n",
       "    }\n",
       "</style>\n",
       "<table border=\"1\" class=\"dataframe\">\n",
       "  <thead>\n",
       "    <tr style=\"text-align: right;\">\n",
       "      <th></th>\n",
       "      <th>label</th>\n",
       "      <th>text</th>\n",
       "    </tr>\n",
       "  </thead>\n",
       "  <tbody>\n",
       "    <tr>\n",
       "      <th>0</th>\n",
       "      <td>0</td>\n",
       "      <td>ahhhh...just woken up!had a bad dream about u ...</td>\n",
       "    </tr>\n",
       "    <tr>\n",
       "      <th>1</th>\n",
       "      <td>0</td>\n",
       "      <td>you can never do nothing</td>\n",
       "    </tr>\n",
       "    <tr>\n",
       "      <th>2</th>\n",
       "      <td>0</td>\n",
       "      <td>now u sound like manky scouse boy steve,like! ...</td>\n",
       "    </tr>\n",
       "    <tr>\n",
       "      <th>3</th>\n",
       "      <td>0</td>\n",
       "      <td>mum say we wan to go then go... then she can s...</td>\n",
       "    </tr>\n",
       "    <tr>\n",
       "      <th>4</th>\n",
       "      <td>0</td>\n",
       "      <td>never y lei... i v lazy... got wat? dat day ü ...</td>\n",
       "    </tr>\n",
       "  </tbody>\n",
       "</table>\n",
       "</div>"
      ],
      "text/plain": [
       "   label                                               text\n",
       "0      0  ahhhh...just woken up!had a bad dream about u ...\n",
       "1      0                           you can never do nothing\n",
       "2      0  now u sound like manky scouse boy steve,like! ...\n",
       "3      0  mum say we wan to go then go... then she can s...\n",
       "4      0  never y lei... i v lazy... got wat? dat day ü ..."
      ]
     },
     "metadata": {},
     "output_type": "display_data"
    },
    {
     "data": {
      "text/plain": [
       "label     int64\n",
       "text     object\n",
       "dtype: object"
      ]
     },
     "metadata": {},
     "output_type": "display_data"
    },
    {
     "data": {
      "text/plain": [
       "0    3619\n",
       "1     560\n",
       "Name: label, dtype: int64"
      ]
     },
     "metadata": {},
     "output_type": "display_data"
    }
   ],
   "source": [
    "# Replace label strings by integers: 'ham' -> 0, 'spam' -> 1\n",
    "replace_rules = {'h': 0, 'sp': 1}\n",
    "train['label'] = train['label'].replace(replace_rules)\n",
    "test['label'] = test['label'].replace(replace_rules)\n",
    "display(train.head())\n",
    "display(train.dtypes)\n",
    "display(train['label'].value_counts())"
   ]
  },
  {
   "cell_type": "code",
   "execution_count": 6,
   "id": "0017c621",
   "metadata": {},
   "outputs": [
    {
     "data": {
      "text/plain": [
       "count    4179.000000\n",
       "mean       15.740847\n",
       "std        11.513394\n",
       "min         0.000000\n",
       "25%         7.000000\n",
       "50%        13.000000\n",
       "75%        23.000000\n",
       "max       190.000000\n",
       "Name: text, dtype: float64"
      ]
     },
     "metadata": {},
     "output_type": "display_data"
    }
   ],
   "source": [
    "# Examine the distribution of the number of tokens in the train data\n",
    "def num_tokens(text):\n",
    "    tokens = list(tokenize(text, lower=True))\n",
    "    return len(tokens)\n",
    "\n",
    "tokenized = train['text'].apply(num_tokens)\n",
    "\n",
    "display(tokenized.describe())"
   ]
  },
  {
   "cell_type": "code",
   "execution_count": 7,
   "id": "e841c94f",
   "metadata": {},
   "outputs": [
    {
     "data": {
      "text/plain": [
       "(5428, 2)"
      ]
     },
     "metadata": {},
     "output_type": "display_data"
    },
    {
     "data": {
      "text/plain": [
       "0    3619\n",
       "1    1809\n",
       "Name: label, dtype: int64"
      ]
     },
     "metadata": {},
     "output_type": "display_data"
    }
   ],
   "source": [
    "# As the label classes are strongly imbalanced, apply\n",
    "# the RandomOverSampler from imblearn to the train data\n",
    "oversampler = RandomOverSampler(sampling_strategy=1/2, random_state=10)\n",
    "train, _ = oversampler.fit_resample(train, train['label'])\n",
    "display(train.shape)\n",
    "display(train['label'].value_counts())"
   ]
  },
  {
   "cell_type": "code",
   "execution_count": 8,
   "id": "dccb1184",
   "metadata": {},
   "outputs": [],
   "source": [
    "# Create a small validation data set\n",
    "train, validation = train_test_split(train, test_size=.09, shuffle=True, random_state=10)\n",
    "\n",
    "# Store data set lengths for later\n",
    "train_len = len(train)\n",
    "test_len = len(test)\n",
    "val_len = len(validation)"
   ]
  },
  {
   "cell_type": "code",
   "execution_count": 45,
   "id": "7c6fe338",
   "metadata": {},
   "outputs": [],
   "source": [
    "# Transform data into tf.data.Dataset format\n",
    "# Copied from TF website and adapted to personal needs:\n",
    "def df_to_dataset(dataframe, shuffle=True, batch_size=128, repeat=True):\n",
    "    df = dataframe.copy()\n",
    "    labels = df.pop('label')\n",
    "    df = df[\"text\"] # a Series\n",
    "    ds = tf.data.Dataset.from_tensor_slices((df, labels))\n",
    "    if shuffle:\n",
    "        ds = ds.shuffle(buffer_size=len(dataframe))\n",
    "    ds = ds.batch(batch_size)\n",
    "    if repeat:\n",
    "        ds = ds.repeat()\n",
    "    ds = ds.prefetch(tf.data.AUTOTUNE)\n",
    "    return ds\n",
    "\n",
    "batch_size = 128\n",
    "train_data = df_to_dataset(train, shuffle=False, batch_size=batch_size) # already shuffled above\n",
    "test_data = df_to_dataset(test, shuffle=False, batch_size=batch_size) # does not need to be shuffled\n",
    "val_data = df_to_dataset(validation, shuffle=False, batch_size=batch_size) # ditto\n",
    "\n",
    "train_max_steps = train_len // batch_size + 1\n",
    "test_max_steps = test_len // batch_size + 1\n",
    "val_max_steps = val_len // batch_size + 1"
   ]
  },
  {
   "cell_type": "code",
   "execution_count": 46,
   "id": "c657a5a3",
   "metadata": {},
   "outputs": [
    {
     "name": "stdout",
     "output_type": "stream",
     "text": [
      "5000\n"
     ]
    }
   ],
   "source": [
    "# Init the text vectorizer\n",
    "vocab_size=5000\n",
    "message_length=35\n",
    "vectorizer = keras.layers.TextVectorization(\n",
    "    max_tokens=vocab_size,\n",
    "    output_sequence_length=message_length\n",
    ")\n",
    "vectorizer.adapt(train_data.map(lambda text, label: text), steps=train_max_steps)\n",
    "print(len(vectorizer.get_vocabulary()))"
   ]
  },
  {
   "cell_type": "code",
   "execution_count": 47,
   "id": "063cfe68",
   "metadata": {},
   "outputs": [
    {
     "name": "stdout",
     "output_type": "stream",
     "text": [
      "Model: \"sequential_5\"\n",
      "_________________________________________________________________\n",
      " Layer (type)                Output Shape              Param #   \n",
      "=================================================================\n",
      " text_vectorization_1 (TextV  (None, 35)               0         \n",
      " ectorization)                                                   \n",
      "                                                                 \n",
      " embedding_5 (Embedding)     (None, 35, 32)            160000    \n",
      "                                                                 \n",
      " lstm_5 (LSTM)               (None, 32)                8320      \n",
      "                                                                 \n",
      " dense_12 (Dense)            (None, 32)                1056      \n",
      "                                                                 \n",
      " dense_13 (Dense)            (None, 1)                 33        \n",
      "                                                                 \n",
      "=================================================================\n",
      "Total params: 169,409\n",
      "Trainable params: 169,409\n",
      "Non-trainable params: 0\n",
      "_________________________________________________________________\n",
      "39/39 [==============================] - 4s 12ms/step - loss: 0.6930 - accuracy: 0.5179\n"
     ]
    },
    {
     "data": {
      "text/plain": [
       "[0.6929824352264404, 0.517918586730957]"
      ]
     },
     "execution_count": 47,
     "metadata": {},
     "output_type": "execute_result"
    }
   ],
   "source": [
    "# Build the model\n",
    "model = keras.Sequential([\n",
    "    keras.Input(shape=(1,), dtype=tf.string),\n",
    "    vectorizer,\n",
    "    keras.layers.Embedding(\n",
    "        input_dim=vocab_size,\n",
    "        output_dim=32,\n",
    "        mask_zero=True,\n",
    "        input_length=message_length\n",
    "    ),\n",
    "    keras.layers.LSTM(units=32),\n",
    "    keras.layers.Dense(units=32, activation='relu'),\n",
    "    keras.layers.Dense(units=1, activation='sigmoid')\n",
    "])\n",
    "\n",
    "model.compile(optimizer='adam', loss=keras.losses.BinaryCrossentropy(), metrics=['accuracy'])\n",
    "model.summary()\n",
    "model.evaluate(train_data, steps=train_max_steps)"
   ]
  },
  {
   "cell_type": "code",
   "execution_count": 48,
   "id": "f9fcf22e",
   "metadata": {
    "scrolled": false
   },
   "outputs": [
    {
     "name": "stdout",
     "output_type": "stream",
     "text": [
      "Epoch 1/20\n",
      "19/19 [==============================] - 5s 37ms/step - loss: 0.6712 - accuracy: 0.6583 - val_loss: 0.6299 - val_accuracy: 0.6748\n",
      "Epoch 2/20\n",
      "19/19 [==============================] - 1s 37ms/step - loss: 0.5513 - accuracy: 0.6838 - val_loss: 0.4012 - val_accuracy: 0.8303\n",
      "Epoch 3/20\n",
      "19/19 [==============================] - 1s 36ms/step - loss: 0.2970 - accuracy: 0.9483 - val_loss: 0.2281 - val_accuracy: 0.9775\n",
      "Epoch 4/20\n",
      "19/19 [==============================] - 1s 37ms/step - loss: 0.1466 - accuracy: 0.9836 - val_loss: 0.1087 - val_accuracy: 0.9836\n",
      "Epoch 5/20\n",
      "19/19 [==============================] - 1s 41ms/step - loss: 0.0607 - accuracy: 0.9887 - val_loss: 0.0638 - val_accuracy: 0.9877\n",
      "Epoch 6/20\n",
      "19/19 [==============================] - 1s 35ms/step - loss: 0.0320 - accuracy: 0.9942 - val_loss: 0.0585 - val_accuracy: 0.9877\n",
      "Epoch 7/20\n",
      "19/19 [==============================] - 1s 36ms/step - loss: 0.0243 - accuracy: 0.9962 - val_loss: 0.0546 - val_accuracy: 0.9898\n",
      "Epoch 8/20\n",
      "19/19 [==============================] - 1s 47ms/step - loss: 0.0170 - accuracy: 0.9975 - val_loss: 0.0471 - val_accuracy: 0.9898\n",
      "Epoch 9/20\n",
      "19/19 [==============================] - 1s 36ms/step - loss: 0.0143 - accuracy: 0.9983 - val_loss: 0.0415 - val_accuracy: 0.9918\n",
      "Epoch 10/20\n",
      "19/19 [==============================] - 1s 36ms/step - loss: 0.0112 - accuracy: 0.9984 - val_loss: 0.0340 - val_accuracy: 0.9939\n",
      "Epoch 11/20\n",
      "19/19 [==============================] - 1s 36ms/step - loss: 0.0069 - accuracy: 0.9996 - val_loss: 0.0412 - val_accuracy: 0.9939\n",
      "Epoch 12/20\n",
      "19/19 [==============================] - 1s 40ms/step - loss: 0.0115 - accuracy: 0.9971 - val_loss: 0.0321 - val_accuracy: 0.9918\n",
      "Epoch 13/20\n",
      "19/19 [==============================] - 1s 35ms/step - loss: 0.0056 - accuracy: 0.9996 - val_loss: 0.0354 - val_accuracy: 0.9939\n",
      "Epoch 14/20\n",
      "19/19 [==============================] - 1s 36ms/step - loss: 0.0089 - accuracy: 0.9984 - val_loss: 0.0205 - val_accuracy: 0.9939\n",
      "Epoch 15/20\n",
      "19/19 [==============================] - 1s 36ms/step - loss: 0.0091 - accuracy: 0.9979 - val_loss: 0.0165 - val_accuracy: 0.9959\n",
      "Epoch 16/20\n",
      "19/19 [==============================] - 1s 41ms/step - loss: 0.0038 - accuracy: 0.9992 - val_loss: 0.0137 - val_accuracy: 0.9980\n",
      "Epoch 17/20\n",
      "19/19 [==============================] - 1s 35ms/step - loss: 0.0038 - accuracy: 0.9996 - val_loss: 0.0118 - val_accuracy: 0.9980\n",
      "Epoch 18/20\n",
      "19/19 [==============================] - 1s 41ms/step - loss: 0.0024 - accuracy: 0.9996 - val_loss: 0.0109 - val_accuracy: 0.9980\n",
      "Epoch 19/20\n",
      "19/19 [==============================] - 1s 41ms/step - loss: 0.0020 - accuracy: 0.9996 - val_loss: 0.0100 - val_accuracy: 0.9980\n",
      "Epoch 20/20\n",
      "19/19 [==============================] - 1s 35ms/step - loss: 0.0018 - accuracy: 0.9996 - val_loss: 0.0104 - val_accuracy: 0.9980\n"
     ]
    }
   ],
   "source": [
    "# TRAIN THE MODEL\n",
    "# Early stopping callback\n",
    "early_stopping_callback = tf.keras.callbacks.EarlyStopping(\n",
    "    monitor='val_accuracy', \n",
    "    min_delta=0, \n",
    "    patience=6, \n",
    "    verbose=0, \n",
    "    mode='auto', \n",
    "    baseline=None, \n",
    "    restore_best_weights=True,\n",
    ")\n",
    "\n",
    "# Fit\n",
    "history = model.fit(\n",
    "    x=train_data,\n",
    "    epochs=20,\n",
    "    steps_per_epoch=train_max_steps // 2,\n",
    "    validation_data=val_data,\n",
    "    validation_steps=val_max_steps,\n",
    "    callbacks=[early_stopping_callback],\n",
    "    use_multiprocessing=True,\n",
    ")"
   ]
  },
  {
   "cell_type": "code",
   "execution_count": 49,
   "id": "1cd683c9",
   "metadata": {},
   "outputs": [
    {
     "data": {
      "text/plain": [
       "array([[0.0003281]], dtype=float32)"
      ]
     },
     "execution_count": 49,
     "metadata": {},
     "output_type": "execute_result"
    }
   ],
   "source": [
    "test_text = 'I just want to eat pizza.'\n",
    "test_text_input_array = np.array(test_text).reshape((-1,1))\n",
    "model(test_text_input_array).numpy()"
   ]
  },
  {
   "cell_type": "code",
   "execution_count": 50,
   "id": "1a919473",
   "metadata": {},
   "outputs": [
    {
     "name": "stdout",
     "output_type": "stream",
     "text": [
      "[0.0024778672959655523, 'ham']\n"
     ]
    }
   ],
   "source": [
    "# function to predict messages based on model\n",
    "# (should return list containing prediction and label, ex. [0.008318834938108921, 'ham'])\n",
    "def predict_message(pred_text):\n",
    "    input_array = np.array(pred_text).reshape((-1,1))\n",
    "    prediction = model(input_array).numpy()[0].tolist()\n",
    "    label_name = \"ham\" if prediction[0] < 0.5 else \"spam\"\n",
    "    prediction.append(label_name)\n",
    "\n",
    "    return (prediction)\n",
    "\n",
    "pred_text = \"how are you doing today?\"\n",
    "\n",
    "prediction = predict_message(pred_text)\n",
    "print(prediction)"
   ]
  },
  {
   "cell_type": "code",
   "execution_count": 51,
   "id": "29f3cd05",
   "metadata": {},
   "outputs": [
    {
     "name": "stdout",
     "output_type": "stream",
     "text": [
      "You passed the challenge. Great job!\n"
     ]
    }
   ],
   "source": [
    "# Run this cell to test your function and model. Do not modify contents.\n",
    "def test_predictions():\n",
    "    test_messages = [\"how are you doing today\",\n",
    "                   \"sale today! to stop texts call 98912460324\",\n",
    "                   \"i dont want to go. can we try it a different day? available sat\",\n",
    "                   \"our new mobile video service is live. just install on your phone to start watching.\",\n",
    "                   \"you have won £1000 cash! call to claim your prize.\",\n",
    "                   \"i'll bring it tomorrow. don't forget the milk.\",\n",
    "                   \"wow, is your arm alright. that happened to me one time too\"\n",
    "                  ]\n",
    "\n",
    "    test_answers = [\"ham\", \"spam\", \"ham\", \"spam\", \"spam\", \"ham\", \"ham\"]\n",
    "    passed = True\n",
    "\n",
    "    for msg, ans in zip(test_messages, test_answers):\n",
    "        prediction = predict_message(msg)\n",
    "        if prediction[1] != ans:\n",
    "            passed = False\n",
    "\n",
    "    if passed:\n",
    "        print(\"You passed the challenge. Great job!\")\n",
    "    else:\n",
    "        print(\"You haven't passed yet. Keep trying.\")\n",
    "\n",
    "test_predictions()\n"
   ]
  }
 ],
 "metadata": {
  "kernelspec": {
   "display_name": "Python 3 (ipykernel)",
   "language": "python",
   "name": "python3"
  },
  "language_info": {
   "codemirror_mode": {
    "name": "ipython",
    "version": 3
   },
   "file_extension": ".py",
   "mimetype": "text/x-python",
   "name": "python",
   "nbconvert_exporter": "python",
   "pygments_lexer": "ipython3",
   "version": "3.10.4"
  }
 },
 "nbformat": 4,
 "nbformat_minor": 5
}
